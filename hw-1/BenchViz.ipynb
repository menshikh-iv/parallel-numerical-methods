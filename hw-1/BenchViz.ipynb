{
 "cells": [
  {
   "cell_type": "markdown",
   "metadata": {},
   "source": [
    "## MergeSort benchmark"
   ]
  },
  {
   "cell_type": "markdown",
   "metadata": {},
   "source": [
    "### 1. Вычитываем результат бенчмарка"
   ]
  },
  {
   "cell_type": "code",
   "execution_count": 1,
   "metadata": {
    "collapsed": false
   },
   "outputs": [
    {
     "name": "stdout",
     "output_type": "stream",
     "text": [
      "{\"type\": \"serial\", \"exponent\": 8, \"repeat\": 0, \"sec\": 9.1e-05}\r\n",
      "{\"type\": \"parallel\", \"exponent\": 8, \"num_threads\": 2, \"repeat\": 0, \"sec\": 0.00017}\r\n",
      "{\"type\": \"parallel\", \"exponent\": 8, \"num_threads\": 3, \"repeat\": 0, \"sec\": 0.007732}\r\n"
     ]
    }
   ],
   "source": [
    "!head -n3 bench.json"
   ]
  },
  {
   "cell_type": "code",
   "execution_count": 2,
   "metadata": {
    "collapsed": true
   },
   "outputs": [],
   "source": [
    "import json\n",
    "\n",
    "graphics = {}\n",
    "with open(\"bench.json\") as infile:\n",
    "    for line in infile:\n",
    "        r = json.loads(line)\n",
    "        k = (r[\"type\"], r.get(\"num_threads\", 1), r[\"exponent\"])\n",
    "        \n",
    "        graphics.setdefault(k, 0.)\n",
    "        graphics[k] += r[\"sec\"]\n",
    "        \n",
    "\n",
    "        \n",
    "x_axis = range(8, 29)\n",
    "y_serial = [graphics[('serial', 1, _)] / 5. for _ in x_axis]\n",
    "y_parallels = {thrd: [graphics[('parallel', thrd, _)] / 5. for _ in x_axis] for thrd in range(2, 9)}"
   ]
  },
  {
   "cell_type": "markdown",
   "metadata": {},
   "source": [
    "### 2. Строим графики"
   ]
  },
  {
   "cell_type": "code",
   "execution_count": null,
   "metadata": {
    "collapsed": false
   },
   "outputs": [],
   "source": [
    "import plotly.offline as py\n",
    "import plotly.graph_objs as go\n",
    "\n",
    "py.init_notebook_mode()\n",
    "data = [go.Scatter(x = x_axis,\n",
    "                   y = y_serial,\n",
    "                   mode = 'lines+markers',\n",
    "                   name = 'Serail')]\n",
    "\n",
    "for k in y_parallels:\n",
    "    data.append(go.Scatter(x = x_axis,\n",
    "                           y = y_parallels[k],\n",
    "                           mode = 'lines+markers',\n",
    "                           name = 'Parallel, {} threads'.format(k)))\n",
    "    \n",
    "layout = dict(title='MergeSort Benchmark', xaxis=dict(title='Power'), yaxis=dict(title=\"Seconds\"))\n",
    "py.iplot(go.Figure(data=data, layout=layout))"
   ]
  }
 ],
 "metadata": {
  "kernelspec": {
   "display_name": "Python 2",
   "language": "python",
   "name": "python2"
  },
  "language_info": {
   "codemirror_mode": {
    "name": "ipython",
    "version": 2
   },
   "file_extension": ".py",
   "mimetype": "text/x-python",
   "name": "python",
   "nbconvert_exporter": "python",
   "pygments_lexer": "ipython2",
   "version": "2.7.12+"
  }
 },
 "nbformat": 4,
 "nbformat_minor": 1
}
