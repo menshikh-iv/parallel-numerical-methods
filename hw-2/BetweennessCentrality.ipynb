{
 "cells": [
  {
   "cell_type": "code",
   "execution_count": 1,
   "metadata": {
    "collapsed": false
   },
   "outputs": [
    {
     "name": "stdout",
     "output_type": "stream",
     "text": [
      "N=500, p=0.0801603206413\n"
     ]
    }
   ],
   "source": [
    "import networkx as nx\n",
    "import random\n",
    "\n",
    "n = 500\n",
    "p = (n * 20.) / (n * (n - 1) * 0.5)\n",
    "\n",
    "print(\"N={}, p={}\".format(n, p))\n",
    "\n",
    "def erdos_renyi_graph(n, p):\n",
    "    graph = {k: [] for k in range(n)}\n",
    "    \n",
    "    for i in range(n):\n",
    "        for j in range(i + 1, n):\n",
    "            if random.random() < p:\n",
    "                graph[i].append(j)\n",
    "                graph[j].append(i)\n",
    "    return graph\n",
    "\n",
    "graph_adj = erdos_renyi_graph(n, p)\n",
    "graph = nx.Graph(graph_adj)"
   ]
  },
  {
   "cell_type": "code",
   "execution_count": 2,
   "metadata": {
    "collapsed": false
   },
   "outputs": [],
   "source": [
    "def singe_source_shortes_paths(graph, s):\n",
    "    pred = {k: [] for k in graph}\n",
    "    dist = {k: float(\"inf\") for k in graph}\n",
    "    sigma = {k: 0. for k in graph}\n",
    "    \n",
    "    dist[s] = 0\n",
    "    sigma[s] = 1.\n",
    "    \n",
    "    queue = [s]\n",
    "    stack = []\n",
    "    \n",
    "    while queue:\n",
    "        v = queue.pop(0)\n",
    "        stack.append(v)\n",
    "        \n",
    "        for w in graph[v]:\n",
    "            if dist[w] == float(\"inf\"):\n",
    "                dist[w] = dist[v] + 1\n",
    "                queue.append(w)\n",
    "            if dist[w] == dist[v] + 1:\n",
    "                sigma[w] += sigma[v]\n",
    "                pred[w].append(v)\n",
    "                \n",
    "    return pred, dist, sigma, stack\n",
    "\n",
    "\n",
    "def accumulation(graph, s, stack, pred, sigma, btw):\n",
    "    delta = {k: 0. for k in graph}\n",
    "    \n",
    "    while stack:\n",
    "        w = stack.pop()\n",
    "        \n",
    "        for v in pred[w]:\n",
    "            delta[v]+= float(sigma[v] * (1 + delta[w])) / sigma[w]\n",
    "        \n",
    "        if w != s:\n",
    "            btw[w] += delta[w]\n",
    "    \n",
    "    return btw"
   ]
  },
  {
   "cell_type": "code",
   "execution_count": 3,
   "metadata": {
    "collapsed": false
   },
   "outputs": [
    {
     "name": "stdout",
     "output_type": "stream",
     "text": [
      "CPU times: user 3.48 s, sys: 12 ms, total: 3.49 s\n",
      "Wall time: 3.47 s\n"
     ]
    }
   ],
   "source": [
    "%%time\n",
    "betweenness = {k: 0. for k in graph}\n",
    "\n",
    "for s in graph_adj:\n",
    "    pred, dist, sigma, stack = singe_source_shortes_paths(graph_adj, s)\n",
    "    betweenness = accumulation(graph_adj, s, \n",
    "                               stack, pred, sigma, betweenness)\n",
    "\n",
    "betweenness = {k: betweenness[k] / 2. for k in betweenness}\n",
    "my_version = betweenness.values()"
   ]
  },
  {
   "cell_type": "code",
   "execution_count": 4,
   "metadata": {
    "collapsed": false
   },
   "outputs": [
    {
     "name": "stdout",
     "output_type": "stream",
     "text": [
      "CPU times: user 1.7 s, sys: 4 ms, total: 1.7 s\n",
      "Wall time: 1.7 s\n"
     ]
    }
   ],
   "source": [
    "%%time\n",
    "nx_version = nx.betweenness_centrality(graph, normalized=False).values()"
   ]
  },
  {
   "cell_type": "code",
   "execution_count": 5,
   "metadata": {
    "collapsed": false
   },
   "outputs": [],
   "source": [
    "import numpy as np\n",
    "np.testing.assert_almost_equal(my_version, nx_version, 10)"
   ]
  }
 ],
 "metadata": {
  "kernelspec": {
   "display_name": "Python 2",
   "language": "python",
   "name": "python2"
  },
  "language_info": {
   "codemirror_mode": {
    "name": "ipython",
    "version": 2
   },
   "file_extension": ".py",
   "mimetype": "text/x-python",
   "name": "python",
   "nbconvert_exporter": "python",
   "pygments_lexer": "ipython2",
   "version": "2.7.12+"
  }
 },
 "nbformat": 4,
 "nbformat_minor": 1
}
